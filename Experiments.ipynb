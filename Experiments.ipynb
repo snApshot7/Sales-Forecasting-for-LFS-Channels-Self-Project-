{
 "cells": [
  {
   "cell_type": "code",
   "execution_count": 1,
   "id": "2dd7dde5-ccb7-4e13-81d0-d294602cd4b9",
   "metadata": {},
   "outputs": [
    {
     "name": "stdout",
     "output_type": "stream",
     "text": [
      "  Channel-1 Channel-2 Combined_Channel\n",
      "0         A         D              A D\n",
      "1         B         E              B E\n",
      "2         C         F              C F\n"
     ]
    }
   ],
   "source": [
    "import pandas as pd\n",
    "\n",
    "# Example dataframe\n",
    "data = {\n",
    "    'Channel-1': ['A', 'B', 'C'],\n",
    "    'Channel-2': ['D', 'E', 'F']\n",
    "}\n",
    "combined_df_lfs = pd.DataFrame(data)\n",
    "\n",
    "# Combine 'Channel-1' and 'Channel-2' into a new column 'Combined_Channel'\n",
    "combined_df_lfs['Combined_Channel'] = combined_df_lfs['Channel-1'] + ' ' + combined_df_lfs['Channel-2']\n",
    "\n",
    "print(combined_df_lfs)\n"
   ]
  }
 ],
 "metadata": {
  "kernelspec": {
   "display_name": "Python 3 (ipykernel)",
   "language": "python",
   "name": "python3"
  },
  "language_info": {
   "codemirror_mode": {
    "name": "ipython",
    "version": 3
   },
   "file_extension": ".py",
   "mimetype": "text/x-python",
   "name": "python",
   "nbconvert_exporter": "python",
   "pygments_lexer": "ipython3",
   "version": "3.11.7"
  }
 },
 "nbformat": 4,
 "nbformat_minor": 5
}
