{
 "cells": [
  {
   "cell_type": "code",
   "execution_count": 1,
   "id": "c09ef11d-ba78-4f11-b6b8-66f7a9777a8f",
   "metadata": {},
   "outputs": [],
   "source": [
    "import pandas as pd\n",
    "import numpy as np\n",
    "import matplotlib.pyplot as plt\n",
    "import seaborn as sns\n",
    "import warnings\n",
    "warnings.filterwarnings('ignore')"
   ]
  },
  {
   "cell_type": "code",
   "execution_count": 2,
   "id": "00683979-7cf9-46b3-bc77-863f8dd177a9",
   "metadata": {},
   "outputs": [],
   "source": [
    "#Data loading\n",
    "df_23_24_sales = pd.read_excel('SECONDARY YTD 23-24 Fragrance - Till February.xlsx', sheet_name=\"BASE DATA\")\n",
    "df_22_23_sales = pd.read_excel('Sales Data - Pivot (FY 16-23).xlsx', sheet_name=\"FY 22-23\")"
   ]
  },
  {
   "cell_type": "code",
   "execution_count": 3,
   "id": "63c0d861-46d4-4a4d-8e40-37fbee937956",
   "metadata": {},
   "outputs": [],
   "source": [
    "#Targetting the data for the LFS Channel\n",
    "df_22_23_sales_lfs = df_22_23_sales[df_22_23_sales['Channel-1'] == 'LFS']\n",
    "df_23_24_sales_lfs = df_23_24_sales[df_23_24_sales['Channel-2'] == 'LFS']"
   ]
  },
  {
   "cell_type": "code",
   "execution_count": 4,
   "id": "5df3b97b-5475-4a4b-a263-1e6700fe7af5",
   "metadata": {},
   "outputs": [],
   "source": [
    "df_22_23_sales_lfs.rename(columns={'Channel-1': 'Channel_lfs'}, inplace=True)\n",
    "df_23_24_sales_lfs.rename(columns={'Channel-2': 'Channel_lfs'}, inplace=True)\n",
    "df_22_23_sales_lfs.rename(columns={'Variant Name': 'Varient_Name'}, inplace=True)\n",
    "df_23_24_sales_lfs.rename(columns={'Varient Name2': 'Varient_Name'}, inplace=True)"
   ]
  },
  {
   "cell_type": "code",
   "execution_count": 5,
   "id": "1dccf8d9-23ed-4297-9512-5d5a0e1fd644",
   "metadata": {},
   "outputs": [
    {
     "name": "stdout",
     "output_type": "stream",
     "text": [
      "['Year', 'Month', 'Month Key', 'QTR', 'Region', 'Invoice Date', 'Material', 'Quantity', 'Gender', 'Brand', 'Channel', 'Franchisee store', 'Bill to Party code', 'Bill to Party Name', 'MRP', 'Gross UCP', 'Net UCP', 'Bill to Party City', 'ShiptopartyStateCode', 'Billing grp', 'Channel_lfs', 'Varient_Name', 'Collection']\n"
     ]
    }
   ],
   "source": [
    "#Combination of both the data frames \n",
    "combined_df_lfs = pd.concat([df_22_23_sales_lfs, df_23_24_sales_lfs], ignore_index=True)\n",
    "combined_df_lfs.rename(columns={' Net UCP': 'Net UCP'}, inplace=True)\n",
    "column_names = combined_df_lfs.columns.tolist()\n",
    "print(column_names)"
   ]
  },
  {
   "cell_type": "code",
   "execution_count": 6,
   "id": "62c408ef-a252-45cf-b134-4506914d1336",
   "metadata": {},
   "outputs": [
    {
     "data": {
      "text/plain": [
       "Gender\n",
       "G    207062\n",
       "L    154384\n",
       "P     16987\n",
       "U       635\n",
       "Name: count, dtype: int64"
      ]
     },
     "execution_count": 6,
     "metadata": {},
     "output_type": "execute_result"
    }
   ],
   "source": [
    "combined_df_lfs['Gender'].value_counts()"
   ]
  },
  {
   "cell_type": "code",
   "execution_count": 7,
   "id": "c12a8902-8a2a-4e24-b2b2-217ae867c854",
   "metadata": {},
   "outputs": [
    {
     "data": {
      "text/plain": [
       "Brand\n",
       "TF    375396\n",
       "Tf      2520\n",
       "FP      1152\n",
       "Name: count, dtype: int64"
      ]
     },
     "execution_count": 7,
     "metadata": {},
     "output_type": "execute_result"
    }
   ],
   "source": [
    "combined_df_lfs['Brand'].value_counts()"
   ]
  },
  {
   "cell_type": "code",
   "execution_count": 8,
   "id": "a517719f-bcfe-404f-bf5d-c19d48161b59",
   "metadata": {},
   "outputs": [
    {
     "data": {
      "text/plain": [
       "Brand\n",
       "TF    377916\n",
       "FP      1152\n",
       "Name: count, dtype: int64"
      ]
     },
     "execution_count": 8,
     "metadata": {},
     "output_type": "execute_result"
    }
   ],
   "source": [
    "#Replace the data of the 'Tf' from the 'TF' respectively\n",
    "demo_brand_check = combined_df_lfs[combined_df_lfs['Brand'] == 'Tf']\n",
    "combined_df_lfs['Brand'] = combined_df_lfs['Brand'].replace('Tf', 'TF')\n",
    "combined_df_lfs['Brand'].value_counts()"
   ]
  },
  {
   "cell_type": "code",
   "execution_count": 9,
   "id": "3b24077b-24dc-4732-9f53-2d0dca27b32b",
   "metadata": {},
   "outputs": [
    {
     "data": {
      "text/html": [
       "<div>\n",
       "<style scoped>\n",
       "    .dataframe tbody tr th:only-of-type {\n",
       "        vertical-align: middle;\n",
       "    }\n",
       "\n",
       "    .dataframe tbody tr th {\n",
       "        vertical-align: top;\n",
       "    }\n",
       "\n",
       "    .dataframe thead th {\n",
       "        text-align: right;\n",
       "    }\n",
       "</style>\n",
       "<table border=\"1\" class=\"dataframe\">\n",
       "  <thead>\n",
       "    <tr style=\"text-align: right;\">\n",
       "      <th></th>\n",
       "      <th>Year</th>\n",
       "      <th>Month</th>\n",
       "      <th>Month Key</th>\n",
       "      <th>QTR</th>\n",
       "      <th>Region</th>\n",
       "      <th>Invoice Date</th>\n",
       "      <th>Material</th>\n",
       "      <th>Quantity</th>\n",
       "      <th>Gender</th>\n",
       "      <th>Brand</th>\n",
       "      <th>...</th>\n",
       "      <th>Bill to Party Name</th>\n",
       "      <th>MRP</th>\n",
       "      <th>Gross UCP</th>\n",
       "      <th>Net UCP</th>\n",
       "      <th>Bill to Party City</th>\n",
       "      <th>ShiptopartyStateCode</th>\n",
       "      <th>Billing grp</th>\n",
       "      <th>Channel_lfs</th>\n",
       "      <th>Varient_Name</th>\n",
       "      <th>Collection</th>\n",
       "    </tr>\n",
       "  </thead>\n",
       "  <tbody>\n",
       "    <tr>\n",
       "      <th>0</th>\n",
       "      <td>2022-23</td>\n",
       "      <td>2022-04-01</td>\n",
       "      <td>Apr</td>\n",
       "      <td>Q1</td>\n",
       "      <td>South</td>\n",
       "      <td>2022-04-01 00:00:00</td>\n",
       "      <td>NFM03DQ1</td>\n",
       "      <td>4.0</td>\n",
       "      <td>G</td>\n",
       "      <td>TF</td>\n",
       "      <td>...</td>\n",
       "      <td>CT-BENGALURU-RESIDENCYROAD</td>\n",
       "      <td>499</td>\n",
       "      <td>1996.0</td>\n",
       "      <td>1996.0</td>\n",
       "      <td>Bangalore</td>\n",
       "      <td>KARNATAKA</td>\n",
       "      <td>LFS</td>\n",
       "      <td>LFS</td>\n",
       "      <td>3. 150 M Amalfi Men deo</td>\n",
       "      <td>g. Premium Deo</td>\n",
       "    </tr>\n",
       "  </tbody>\n",
       "</table>\n",
       "<p>1 rows × 23 columns</p>\n",
       "</div>"
      ],
      "text/plain": [
       "      Year      Month Month Key QTR Region         Invoice Date  Material  \\\n",
       "0  2022-23 2022-04-01       Apr  Q1  South  2022-04-01 00:00:00  NFM03DQ1   \n",
       "\n",
       "   Quantity Gender Brand  ...          Bill to Party Name  MRP Gross UCP  \\\n",
       "0       4.0      G    TF  ...  CT-BENGALURU-RESIDENCYROAD  499    1996.0   \n",
       "\n",
       "  Net UCP  Bill to Party City  ShiptopartyStateCode  Billing grp Channel_lfs  \\\n",
       "0  1996.0           Bangalore  KARNATAKA                     LFS         LFS   \n",
       "\n",
       "              Varient_Name      Collection  \n",
       "0  3. 150 M Amalfi Men deo  g. Premium Deo  \n",
       "\n",
       "[1 rows x 23 columns]"
      ]
     },
     "execution_count": 9,
     "metadata": {},
     "output_type": "execute_result"
    }
   ],
   "source": [
    "combined_df_lfs.head(1)"
   ]
  },
  {
   "cell_type": "code",
   "execution_count": 10,
   "id": "47be1d26-599e-44e8-b4af-e78376e595ee",
   "metadata": {},
   "outputs": [
    {
     "data": {
      "text/plain": [
       "Collection\n",
       "Gift Pack          62820\n",
       "Classic 100 ml     61611\n",
       "Premium Deo        58719\n",
       "Classic 20 ml      52374\n",
       "Aqua               29753\n",
       "Classic 50 ml      26505\n",
       "Escapade Deo       24448\n",
       "Escapade           19996\n",
       "Nox 100 ml         12883\n",
       "Tales 100ml         8704\n",
       "Noura W 100ml       7139\n",
       "Deo Bundle Pack     6384\n",
       "Nox 20 ml           2661\n",
       "Noura 20 ml         2586\n",
       "Classic Flanker     1270\n",
       "Fastrack            1190\n",
       "Skinn Mist            15\n",
       "Bohemian               6\n",
       "Fastrack-Bold          4\n",
       "Name: count, dtype: int64"
      ]
     },
     "execution_count": 10,
     "metadata": {},
     "output_type": "execute_result"
    }
   ],
   "source": [
    "mapping = {\n",
    "    'd. Gift Pack': 'Gift Pack',\n",
    "    'g. Premium Deo': 'Premium Deo',\n",
    "    'a. Classic 100 ml': 'Classic 100 ml',\n",
    "    'f. Classic 20 ml': 'Classic 20 ml',\n",
    "    'b. Classic 50 ml': 'Classic 50 ml',\n",
    "    'e. Aqua': 'Aqua',\n",
    "    'g. Escapade Deo': 'Escapade Deo',\n",
    "    'c. Escapade': 'Escapade',\n",
    "    'j1. Nox 100 ml': 'Nox 100 ml',\n",
    "    'I. Tales 100ml': 'Tales 100ml',\n",
    "    'j2. Noura W 100ml': 'Noura W 100ml',\n",
    "    'h. Fastrack': 'Fastrack',\n",
    "    'h. Fastrack-Bold': 'Fastrack-Bold',\n",
    "    'x. Bohemian': 'Bohemian',\n",
    "    ' Premium Deo':'Premium Deo',\n",
    "    ' Escapade Deo':'Escapade Deo',\n",
    "    ' Bohemian':'Bohemian',\n",
    "    ' Deo Bundle Pack':'Deo Bundle Pack'\n",
    "}\n",
    "combined_df_lfs['Collection'] = combined_df_lfs['Collection'].replace(mapping)\n",
    "combined_df_lfs['Collection'].value_counts()"
   ]
  },
  {
   "cell_type": "code",
   "execution_count": 11,
   "id": "74dbd96f-530a-4ed8-ad3d-9e4dad586573",
   "metadata": {},
   "outputs": [
    {
     "data": {
      "application/vnd.jupyter.widget-view+json": {
       "model_id": "26772fe338e44ea48280dedb302ac00d",
       "version_major": 2,
       "version_minor": 0
      },
      "text/plain": [
       "Summarize dataset:   0%|          | 0/5 [00:00<?, ?it/s]"
      ]
     },
     "metadata": {},
     "output_type": "display_data"
    },
    {
     "data": {
      "application/vnd.jupyter.widget-view+json": {
       "model_id": "a4779f2d872d44018b41b1c10a09e1c5",
       "version_major": 2,
       "version_minor": 0
      },
      "text/plain": [
       "Generate report structure:   0%|          | 0/1 [00:00<?, ?it/s]"
      ]
     },
     "metadata": {},
     "output_type": "display_data"
    },
    {
     "data": {
      "application/vnd.jupyter.widget-view+json": {
       "model_id": "9b6fecade1604370ba648253fa7648ad",
       "version_major": 2,
       "version_minor": 0
      },
      "text/plain": [
       "Render HTML:   0%|          | 0/1 [00:00<?, ?it/s]"
      ]
     },
     "metadata": {},
     "output_type": "display_data"
    },
    {
     "data": {
      "application/vnd.jupyter.widget-view+json": {
       "model_id": "fd5ab8a7fa014d37a7de23c5f0246eee",
       "version_major": 2,
       "version_minor": 0
      },
      "text/plain": [
       "Export report to file:   0%|          | 0/1 [00:00<?, ?it/s]"
      ]
     },
     "metadata": {},
     "output_type": "display_data"
    }
   ],
   "source": [
    "from ydata_profiling import ProfileReport\n",
    "prof = ProfileReport(combined_df_lfs)\n",
    "prof.to_file(output_file='ARIMA.html')"
   ]
  },
  {
   "cell_type": "code",
   "execution_count": 12,
   "id": "1a3fa5eb-f4f2-4304-b713-1d56fbca30bc",
   "metadata": {},
   "outputs": [
    {
     "data": {
      "text/plain": [
       "Region\n",
       "West     105498\n",
       "North    100417\n",
       "South     90644\n",
       "East      68152\n",
       "Name: count, dtype: int64"
      ]
     },
     "execution_count": 12,
     "metadata": {},
     "output_type": "execute_result"
    }
   ],
   "source": [
    "demo_region_check = combined_df_lfs[combined_df_lfs['Region'] == 'NORTH']\n",
    "combined_df_lfs['Region'] = combined_df_lfs['Region'].replace('NORTH', 'North')\n",
    "combined_df_lfs['Region'].value_counts()"
   ]
  },
  {
   "cell_type": "code",
   "execution_count": 13,
   "id": "0682c246-03a0-4046-9ec5-6a6ae0791fcc",
   "metadata": {},
   "outputs": [
    {
     "data": {
      "text/html": [
       "<div>\n",
       "<style scoped>\n",
       "    .dataframe tbody tr th:only-of-type {\n",
       "        vertical-align: middle;\n",
       "    }\n",
       "\n",
       "    .dataframe tbody tr th {\n",
       "        vertical-align: top;\n",
       "    }\n",
       "\n",
       "    .dataframe thead th {\n",
       "        text-align: right;\n",
       "    }\n",
       "</style>\n",
       "<table border=\"1\" class=\"dataframe\">\n",
       "  <thead>\n",
       "    <tr style=\"text-align: right;\">\n",
       "      <th></th>\n",
       "      <th>Collection</th>\n",
       "      <th>min_dt</th>\n",
       "      <th>max_dt</th>\n",
       "      <th>tag</th>\n",
       "    </tr>\n",
       "  </thead>\n",
       "  <tbody>\n",
       "    <tr>\n",
       "      <th>0</th>\n",
       "      <td>Premium Deo</td>\n",
       "      <td>2022-04-01</td>\n",
       "      <td>2024-02-29</td>\n",
       "      <td>1</td>\n",
       "    </tr>\n",
       "    <tr>\n",
       "      <th>1</th>\n",
       "      <td>Classic 20 ml</td>\n",
       "      <td>2022-04-01</td>\n",
       "      <td>2024-02-29</td>\n",
       "      <td>1</td>\n",
       "    </tr>\n",
       "    <tr>\n",
       "      <th>2</th>\n",
       "      <td>Escapade Deo</td>\n",
       "      <td>2022-04-01</td>\n",
       "      <td>2024-02-29</td>\n",
       "      <td>1</td>\n",
       "    </tr>\n",
       "    <tr>\n",
       "      <th>3</th>\n",
       "      <td>Tales 100ml</td>\n",
       "      <td>2022-04-01</td>\n",
       "      <td>2024-02-29</td>\n",
       "      <td>1</td>\n",
       "    </tr>\n",
       "    <tr>\n",
       "      <th>4</th>\n",
       "      <td>Classic 100 ml</td>\n",
       "      <td>2022-04-01</td>\n",
       "      <td>2024-02-29</td>\n",
       "      <td>1</td>\n",
       "    </tr>\n",
       "    <tr>\n",
       "      <th>5</th>\n",
       "      <td>Gift Pack</td>\n",
       "      <td>2022-04-01</td>\n",
       "      <td>2024-02-29</td>\n",
       "      <td>1</td>\n",
       "    </tr>\n",
       "    <tr>\n",
       "      <th>6</th>\n",
       "      <td>Classic 50 ml</td>\n",
       "      <td>2022-04-01</td>\n",
       "      <td>2024-02-29</td>\n",
       "      <td>1</td>\n",
       "    </tr>\n",
       "    <tr>\n",
       "      <th>7</th>\n",
       "      <td>Escapade</td>\n",
       "      <td>2022-04-01</td>\n",
       "      <td>2024-02-29</td>\n",
       "      <td>1</td>\n",
       "    </tr>\n",
       "    <tr>\n",
       "      <th>8</th>\n",
       "      <td>Aqua</td>\n",
       "      <td>2022-04-01</td>\n",
       "      <td>2024-02-29</td>\n",
       "      <td>1</td>\n",
       "    </tr>\n",
       "    <tr>\n",
       "      <th>9</th>\n",
       "      <td>Fastrack</td>\n",
       "      <td>2022-04-01</td>\n",
       "      <td>2024-02-27</td>\n",
       "      <td>1</td>\n",
       "    </tr>\n",
       "    <tr>\n",
       "      <th>10</th>\n",
       "      <td>Nox 100 ml</td>\n",
       "      <td>2022-04-12</td>\n",
       "      <td>2024-02-29</td>\n",
       "      <td>1</td>\n",
       "    </tr>\n",
       "    <tr>\n",
       "      <th>11</th>\n",
       "      <td>Bohemian</td>\n",
       "      <td>2022-05-19</td>\n",
       "      <td>2024-01-19</td>\n",
       "      <td>0</td>\n",
       "    </tr>\n",
       "    <tr>\n",
       "      <th>12</th>\n",
       "      <td>Noura W 100ml</td>\n",
       "      <td>2022-09-11</td>\n",
       "      <td>2024-02-29</td>\n",
       "      <td>0</td>\n",
       "    </tr>\n",
       "    <tr>\n",
       "      <th>13</th>\n",
       "      <td>Fastrack-Bold</td>\n",
       "      <td>2023-01-01</td>\n",
       "      <td>2023-02-17</td>\n",
       "      <td>0</td>\n",
       "    </tr>\n",
       "    <tr>\n",
       "      <th>14</th>\n",
       "      <td>Nox 20 ml</td>\n",
       "      <td>2023-06-07</td>\n",
       "      <td>2024-02-29</td>\n",
       "      <td>0</td>\n",
       "    </tr>\n",
       "    <tr>\n",
       "      <th>15</th>\n",
       "      <td>Noura 20 ml</td>\n",
       "      <td>2023-06-08</td>\n",
       "      <td>2024-02-29</td>\n",
       "      <td>0</td>\n",
       "    </tr>\n",
       "    <tr>\n",
       "      <th>16</th>\n",
       "      <td>Deo Bundle Pack</td>\n",
       "      <td>2023-07-06</td>\n",
       "      <td>2024-02-29</td>\n",
       "      <td>0</td>\n",
       "    </tr>\n",
       "    <tr>\n",
       "      <th>17</th>\n",
       "      <td>Skinn Mist</td>\n",
       "      <td>2023-11-01</td>\n",
       "      <td>2024-02-22</td>\n",
       "      <td>0</td>\n",
       "    </tr>\n",
       "    <tr>\n",
       "      <th>18</th>\n",
       "      <td>Classic Flanker</td>\n",
       "      <td>2024-01-13</td>\n",
       "      <td>2024-02-29</td>\n",
       "      <td>0</td>\n",
       "    </tr>\n",
       "  </tbody>\n",
       "</table>\n",
       "</div>"
      ],
      "text/plain": [
       "         Collection     min_dt     max_dt  tag\n",
       "0       Premium Deo 2022-04-01 2024-02-29    1\n",
       "1     Classic 20 ml 2022-04-01 2024-02-29    1\n",
       "2      Escapade Deo 2022-04-01 2024-02-29    1\n",
       "3       Tales 100ml 2022-04-01 2024-02-29    1\n",
       "4    Classic 100 ml 2022-04-01 2024-02-29    1\n",
       "5         Gift Pack 2022-04-01 2024-02-29    1\n",
       "6     Classic 50 ml 2022-04-01 2024-02-29    1\n",
       "7          Escapade 2022-04-01 2024-02-29    1\n",
       "8              Aqua 2022-04-01 2024-02-29    1\n",
       "9          Fastrack 2022-04-01 2024-02-27    1\n",
       "10       Nox 100 ml 2022-04-12 2024-02-29    1\n",
       "11         Bohemian 2022-05-19 2024-01-19    0\n",
       "12    Noura W 100ml 2022-09-11 2024-02-29    0\n",
       "13    Fastrack-Bold 2023-01-01 2023-02-17    0\n",
       "14        Nox 20 ml 2023-06-07 2024-02-29    0\n",
       "15      Noura 20 ml 2023-06-08 2024-02-29    0\n",
       "16  Deo Bundle Pack 2023-07-06 2024-02-29    0\n",
       "17       Skinn Mist 2023-11-01 2024-02-22    0\n",
       "18  Classic Flanker 2024-01-13 2024-02-29    0"
      ]
     },
     "execution_count": 13,
     "metadata": {},
     "output_type": "execute_result"
    }
   ],
   "source": [
    "demo_collection_check=combined_df_lfs.copy()\n",
    "demo_collection_check['min_dt'] = demo_collection_check.groupby('Collection')['Invoice Date'].transform('min')\n",
    "demo_collection_check['max_dt'] = demo_collection_check.groupby('Collection')['Invoice Date'].transform('max')\n",
    "demo_collection_check = demo_collection_check[['Collection','min_dt','max_dt']].drop_duplicates().reset_index(drop=True)\n",
    "\n",
    "demo_collection_check['tag'] = demo_collection_check.apply(lambda x: 1 if ((x['min_dt'].year == demo_collection_check['min_dt'].min().year) & (x['min_dt'].month == demo_collection_check['min_dt'].min().month)) & ((x['max_dt'].year == demo_collection_check['max_dt'].max().year) & (x['max_dt'].month == demo_collection_check['max_dt'].max().month)) else 0,axis=1)\n",
    "\n",
    "demo_collection_check"
   ]
  },
  {
   "cell_type": "code",
   "execution_count": 14,
   "id": "1e9c9730-939b-4fd7-84a5-3137bd7b098d",
   "metadata": {},
   "outputs": [],
   "source": [
    "demo_data = combined_df_lfs.copy()"
   ]
  },
  {
   "cell_type": "code",
   "execution_count": 15,
   "id": "7a187a40-f5a9-4923-b3b8-06f7f90f728b",
   "metadata": {},
   "outputs": [
    {
     "data": {
      "text/plain": [
       "(359003, 23)"
      ]
     },
     "execution_count": 15,
     "metadata": {},
     "output_type": "execute_result"
    }
   ],
   "source": [
    "#Getting the data for the continued collection\n",
    "demo_collection_check_continued = demo_collection_check.loc[demo_collection_check['tag']==1,'Collection']\n",
    "# demo_collection_check_continued\n",
    "demo_data = demo_data[demo_data['Collection'].isin(demo_collection_check_continued)]\n",
    "demo_data.shape\n",
    "#Filtered data for the continued fraganances"
   ]
  },
  {
   "cell_type": "code",
   "execution_count": 16,
   "id": "25afbe95-3f18-4a76-9c74-5a422c4958af",
   "metadata": {},
   "outputs": [
    {
     "data": {
      "text/html": [
       "<div>\n",
       "<style scoped>\n",
       "    .dataframe tbody tr th:only-of-type {\n",
       "        vertical-align: middle;\n",
       "    }\n",
       "\n",
       "    .dataframe tbody tr th {\n",
       "        vertical-align: top;\n",
       "    }\n",
       "\n",
       "    .dataframe thead th {\n",
       "        text-align: right;\n",
       "    }\n",
       "</style>\n",
       "<table border=\"1\" class=\"dataframe\">\n",
       "  <thead>\n",
       "    <tr style=\"text-align: right;\">\n",
       "      <th></th>\n",
       "      <th>Year</th>\n",
       "      <th>QTR</th>\n",
       "      <th>Month Key</th>\n",
       "      <th>Collection</th>\n",
       "      <th>Region</th>\n",
       "      <th>Net UCP</th>\n",
       "      <th>Quantity</th>\n",
       "    </tr>\n",
       "  </thead>\n",
       "  <tbody>\n",
       "    <tr>\n",
       "      <th>913</th>\n",
       "      <td>2023-24</td>\n",
       "      <td>Q4</td>\n",
       "      <td>Jan</td>\n",
       "      <td>Classic 50 ml</td>\n",
       "      <td>South</td>\n",
       "      <td>72389.0</td>\n",
       "      <td>41.0</td>\n",
       "    </tr>\n",
       "    <tr>\n",
       "      <th>914</th>\n",
       "      <td>2023-24</td>\n",
       "      <td>Q4</td>\n",
       "      <td>Jan</td>\n",
       "      <td>Escapade</td>\n",
       "      <td>South</td>\n",
       "      <td>42042.0</td>\n",
       "      <td>16.0</td>\n",
       "    </tr>\n",
       "    <tr>\n",
       "      <th>915</th>\n",
       "      <td>2023-24</td>\n",
       "      <td>Q4</td>\n",
       "      <td>Jan</td>\n",
       "      <td>Escapade Deo</td>\n",
       "      <td>North</td>\n",
       "      <td>499.0</td>\n",
       "      <td>1.0</td>\n",
       "    </tr>\n",
       "    <tr>\n",
       "      <th>916</th>\n",
       "      <td>2023-24</td>\n",
       "      <td>Q4</td>\n",
       "      <td>Jan</td>\n",
       "      <td>Escapade Deo</td>\n",
       "      <td>South</td>\n",
       "      <td>6487.0</td>\n",
       "      <td>13.0</td>\n",
       "    </tr>\n",
       "    <tr>\n",
       "      <th>917</th>\n",
       "      <td>2023-24</td>\n",
       "      <td>Q4</td>\n",
       "      <td>Jan</td>\n",
       "      <td>Gift Pack</td>\n",
       "      <td>North</td>\n",
       "      <td>21349.5</td>\n",
       "      <td>11.0</td>\n",
       "    </tr>\n",
       "    <tr>\n",
       "      <th>918</th>\n",
       "      <td>2023-24</td>\n",
       "      <td>Q4</td>\n",
       "      <td>Jan</td>\n",
       "      <td>Gift Pack</td>\n",
       "      <td>South</td>\n",
       "      <td>90004.0</td>\n",
       "      <td>41.0</td>\n",
       "    </tr>\n",
       "    <tr>\n",
       "      <th>919</th>\n",
       "      <td>2023-24</td>\n",
       "      <td>Q4</td>\n",
       "      <td>Jan</td>\n",
       "      <td>Nox 100 ml</td>\n",
       "      <td>North</td>\n",
       "      <td>3995.0</td>\n",
       "      <td>1.0</td>\n",
       "    </tr>\n",
       "    <tr>\n",
       "      <th>920</th>\n",
       "      <td>2023-24</td>\n",
       "      <td>Q4</td>\n",
       "      <td>Jan</td>\n",
       "      <td>Nox 100 ml</td>\n",
       "      <td>South</td>\n",
       "      <td>27965.0</td>\n",
       "      <td>7.0</td>\n",
       "    </tr>\n",
       "    <tr>\n",
       "      <th>921</th>\n",
       "      <td>2023-24</td>\n",
       "      <td>Q4</td>\n",
       "      <td>Jan</td>\n",
       "      <td>Premium Deo</td>\n",
       "      <td>North</td>\n",
       "      <td>998.0</td>\n",
       "      <td>2.0</td>\n",
       "    </tr>\n",
       "    <tr>\n",
       "      <th>922</th>\n",
       "      <td>2023-24</td>\n",
       "      <td>Q4</td>\n",
       "      <td>Jan</td>\n",
       "      <td>Premium Deo</td>\n",
       "      <td>South</td>\n",
       "      <td>24451.0</td>\n",
       "      <td>49.0</td>\n",
       "    </tr>\n",
       "  </tbody>\n",
       "</table>\n",
       "</div>"
      ],
      "text/plain": [
       "        Year QTR Month Key     Collection Region  Net UCP  Quantity\n",
       "913  2023-24  Q4       Jan  Classic 50 ml  South  72389.0      41.0\n",
       "914  2023-24  Q4       Jan       Escapade  South  42042.0      16.0\n",
       "915  2023-24  Q4       Jan   Escapade Deo  North    499.0       1.0\n",
       "916  2023-24  Q4       Jan   Escapade Deo  South   6487.0      13.0\n",
       "917  2023-24  Q4       Jan      Gift Pack  North  21349.5      11.0\n",
       "918  2023-24  Q4       Jan      Gift Pack  South  90004.0      41.0\n",
       "919  2023-24  Q4       Jan     Nox 100 ml  North   3995.0       1.0\n",
       "920  2023-24  Q4       Jan     Nox 100 ml  South  27965.0       7.0\n",
       "921  2023-24  Q4       Jan    Premium Deo  North    998.0       2.0\n",
       "922  2023-24  Q4       Jan    Premium Deo  South  24451.0      49.0"
      ]
     },
     "execution_count": 16,
     "metadata": {},
     "output_type": "execute_result"
    }
   ],
   "source": [
    "#Now we are going to analyze the data Month wise for the collections of 'demo_collection_check_continued'\n",
    "demo_data_monthly = demo_data.groupby(['Year','QTR','Month Key','Collection','Region'],as_index=False).agg({'Net UCP':'sum','Quantity':'sum'})\n",
    "demo_data_monthly.tail(10)"
   ]
  },
  {
   "cell_type": "code",
   "execution_count": 25,
   "id": "e5f9aa97-1263-4537-8e24-b17325572208",
   "metadata": {},
   "outputs": [
    {
     "data": {
      "text/plain": [
       "<Axes: title={'center': 'MaxAbs Scaled Quantity Over Time'}, xlabel='Month', ylabel='MaxAbs Scaled Quantity'>"
      ]
     },
     "execution_count": 25,
     "metadata": {},
     "output_type": "execute_result"
    }
   ],
   "source": [
    "#Now we are going to draw the histplot for the 'Net UCP' and 'Quantity' from the 'demo_data_monthly' for the 'Collection; 'Classic 100 ml'\n",
    "demo_data_monthly_classic_100 = demo_data_monthly[demo_data_monthly['Collection']=='Classic 100 ml']\n",
    "demo_data_monthly_classic_100.head(10)\n",
    "sns.histplot(data=demo_data_monthly_classic_100, x='Net UCP', bins=1000)"
   ]
  },
  {
   "cell_type": "code",
   "execution_count": 18,
   "id": "fec30bea-bd05-41db-9c84-6aba9b296df8",
   "metadata": {},
   "outputs": [
    {
     "name": "stdout",
     "output_type": "stream",
     "text": [
      "Column: Net UCP\n",
      "Skewness: 3.233555383558647\n",
      "Column: Quantity\n",
      "Skewness: 3.0882987319795863\n"
     ]
    }
   ],
   "source": [
    "from scipy.stats import skew\n",
    "columns_to_check = ['Net UCP', 'Quantity']\n",
    "for col in columns_to_check:\n",
    "    print(f\"Column: {col}\")\n",
    "    print(f\"Skewness: {skew(demo_data_monthly_classic_100[col])}\")\n",
    "    plt.figure(figsize=(8, 5))\n",
    "    sns.histplot(demo_data_monthly_classic_100[col], kde=True)\n",
    "    plt.show()"
   ]
  },
  {
   "cell_type": "code",
   "execution_count": 19,
   "id": "3498671d-2e67-4edf-b7bc-5f79d8ddd527",
   "metadata": {},
   "outputs": [
    {
     "data": {
      "text/plain": [
       "<Axes: xlabel='Quantity', ylabel='Count'>"
      ]
     },
     "execution_count": 19,
     "metadata": {},
     "output_type": "execute_result"
    }
   ],
   "source": [
    "#Now we are going to draw the histplot for the 'Net UCP' and 'Quantity' from the 'demo_data_monthly' for all the 'Collection'\n",
    "sns.histplot(data=demo_data_monthly, x='Net UCP', bins=1000)"
   ]
  },
  {
   "cell_type": "code",
   "execution_count": 20,
   "id": "3d8d8a8a-1619-4833-819e-e453280efd0f",
   "metadata": {},
   "outputs": [
    {
     "name": "stdout",
     "output_type": "stream",
     "text": [
      "Column: Net UCP\n",
      "Skewness: 2.6996419853421716\n",
      "Column: Quantity\n",
      "Skewness: 2.2264795139522557\n"
     ]
    }
   ],
   "source": [
    "from scipy.stats import skew\n",
    "columns_to_check = ['Net UCP', 'Quantity']\n",
    "for col in columns_to_check:\n",
    "    print(f\"Column: {col}\")\n",
    "    print(f\"Skewness: {skew(demo_data_monthly[col])}\")\n",
    "    plt.figure(figsize=(8, 5))\n",
    "    sns.histplot(demo_data_monthly[col], kde=True)\n",
    "    plt.show()"
   ]
  },
  {
   "cell_type": "code",
   "execution_count": 21,
   "id": "84e79e4f-cfd3-4f68-b392-6d591b48158d",
   "metadata": {},
   "outputs": [],
   "source": [
    "#Now we are going to do Feature scaling using the Standardization (Z-Score Normalization) for the 'Net UCP' and 'Quantity' from the 'demo_data_monthly' for all the 'Collection'\n",
    "from sklearn.preprocessing import StandardScaler\n",
    "scaler = StandardScaler()\n",
    "scaled_data = demo_data_monthly[['Net UCP', 'Quantity']]\n",
    "scaled_data = scaler.fit_transform(scaled_data)\n",
    "scaled_data = pd.DataFrame(scaled_data, columns=['Net UCP', 'Quantity'])\n",
    "demo_data_monthly['Z_Score_Net_UCP'] = scaled_data['Net UCP']\n",
    "demo_data_monthly['Z_Score_Quantity'] = scaled_data['Quantity']\n",
    "\n",
    "# Plotting the Z-scores\n",
    "plt.figure(figsize=(12, 6))\n",
    "\n",
    "# Plot for Z_Score_Net_UCP\n",
    "plt.subplot(2, 1, 1)\n",
    "plt.plot(demo_data_monthly['Month Key'], demo_data_monthly['Z_Score_Net_UCP'], marker='o', linestyle='-', color='b')\n",
    "plt.title('Z-Score of Net UCP Over Time')\n",
    "plt.xlabel('Month')\n",
    "plt.ylabel('Z-Score of Net UCP')\n",
    "\n",
    "# Plot for Z_Score_Quantity\n",
    "plt.subplot(2, 1, 2)\n",
    "plt.plot(demo_data_monthly['Month Key'], demo_data_monthly['Z_Score_Quantity'], marker='o', linestyle='-', color='r')\n",
    "plt.title('Z-Score of Quantity Over Time')\n",
    "plt.xlabel('Month')\n",
    "plt.ylabel('Z-Score of Quantity')\n",
    "\n",
    "plt.tight_layout()\n",
    "plt.show()"
   ]
  },
  {
   "cell_type": "code",
   "execution_count": 22,
   "id": "0f8ac202-5a4e-4b4c-b4fa-e45f69fa5ed2",
   "metadata": {},
   "outputs": [],
   "source": [
    "#Now we are going to do Feature scaling using the Min-Max Scaling (Normalization) for the 'Net UCP' and 'Quantity' from the 'demo_data_monthly' for all the 'Collection'\n",
    "from sklearn.preprocessing import MinMaxScaler\n",
    "scaler = MinMaxScaler()\n",
    "scaled_data = demo_data_monthly[['Net UCP', 'Quantity']]\n",
    "scaled_data = scaler.fit_transform(scaled_data)\n",
    "scaled_data = pd.DataFrame(scaled_data, columns=['Net UCP', 'Quantity'])\n",
    "demo_data_monthly['MinMax_Net_UCP'] = scaled_data['Net UCP']\n",
    "demo_data_monthly['MinMax_Quantity'] = scaled_data['Quantity']\n",
    "\n",
    "# Plotting the Min-Max Scaled values\n",
    "plt.figure(figsize=(12, 6))\n",
    "\n",
    "# Plot for MinMax_Net_UCP\n",
    "plt.subplot(2, 1, 1)\n",
    "plt.plot(demo_data_monthly['Month Key'], demo_data_monthly['MinMax_Net_UCP'], marker='o', linestyle='-', color='b')\n",
    "plt.title('MinMax Scaled Net UCP Over Time')\n",
    "plt.xlabel('Month')\n",
    "plt.ylabel('MinMax Scaled Net UCP')\n",
    "\n",
    "# Plot for MinMax_Quantity\n",
    "plt.subplot(2, 1, 2)\n",
    "plt.plot(demo_data_monthly['Month Key'], demo_data_monthly['MinMax_Quantity'], marker='o', linestyle='-', color='r')\n",
    "plt.title('MinMax Scaled Quantity Over Time')\n",
    "plt.xlabel('Month')\n",
    "plt.ylabel('MinMax Scaled Quantity')\n",
    "\n",
    "plt.tight_layout()\n",
    "plt.show()"
   ]
  },
  {
   "cell_type": "code",
   "execution_count": 23,
   "id": "51899f83-9d52-43c7-8aae-6328fbd83495",
   "metadata": {},
   "outputs": [],
   "source": [
    "#Now we are going to do Feature scaling using the Robust Scaling for the 'Net UCP' and 'Quantity' from the 'demo_data_monthly' for all the 'Collection'\n",
    "from sklearn.preprocessing import RobustScaler\n",
    "scaler = RobustScaler()\n",
    "scaled_data = demo_data_monthly[['Net UCP', 'Quantity']]\n",
    "scaled_data = scaler.fit_transform(scaled_data)\n",
    "scaled_data = pd.DataFrame(scaled_data, columns=['Net UCP', 'Quantity'])\n",
    "demo_data_monthly['Robust_Net_UCP'] = scaled_data['Net UCP']\n",
    "demo_data_monthly['Robust_Quantity'] = scaled_data['Quantity']\n",
    "\n",
    "# Plotting the Robust Scaled values\n",
    "plt.figure(figsize=(12, 6))\n",
    "\n",
    "# Plot for Robust_Net_UCP\n",
    "plt.subplot(2, 1, 1)\n",
    "plt.plot(demo_data_monthly['Month Key'], demo_data_monthly['Robust_Net_UCP'], marker='o', linestyle='-', color='b')\n",
    "plt.title('Robust Scaled Net UCP Over Time')\n",
    "plt.xlabel('Month')\n",
    "plt.ylabel('Robust Scaled Net UCP')\n",
    "\n",
    "# Plot for Robust_Quantity\n",
    "plt.subplot(2, 1, 2)\n",
    "plt.plot(demo_data_monthly['Month Key'], demo_data_monthly['Robust_Quantity'], marker='o', linestyle='-', color='r')\n",
    "plt.title('Robust Scaled Quantity Over Time')\n",
    "plt.xlabel('Month')\n",
    "plt.ylabel('Robust Scaled Quantity')\n",
    "\n",
    "plt.tight_layout()\n",
    "plt.show()\n",
    "\n"
   ]
  },
  {
   "cell_type": "code",
   "execution_count": 24,
   "id": "4fbddb05-18c3-47cf-baf3-740deca4cd39",
   "metadata": {},
   "outputs": [],
   "source": [
    "#Now we are going to do Feature scaling using the Absolute Maximum Scaling for the 'Net UCP' and 'Quantity' from the 'demo_data_monthly' for all the 'Collection'\n",
    "from sklearn.preprocessing import MaxAbsScaler\n",
    "scaler = MaxAbsScaler()\n",
    "scaled_data = demo_data_monthly[['Net UCP', 'Quantity']]\n",
    "scaled_data = scaler.fit_transform(scaled_data)\n",
    "scaled_data = pd.DataFrame(scaled_data, columns=['Net UCP', 'Quantity'])\n",
    "demo_data_monthly['MaxAbs_Net_UCP'] = scaled_data['Net UCP']\n",
    "demo_data_monthly['MaxAbs_Quantity'] = scaled_data['Quantity']\n",
    "\n",
    "# Plotting the MaxAbs Scaled values\n",
    "plt.figure(figsize=(12, 6))\n",
    "\n",
    "# Plot for MaxAbs_Net_UCP\n",
    "plt.subplot(2, 1, 1)\n",
    "plt.plot(demo_data_monthly['Month Key'], demo_data_monthly['MaxAbs_Net_UCP'], marker='o', linestyle='-', color='b')\n",
    "plt.title('MaxAbs Scaled Net UCP Over Time')\n",
    "plt.xlabel('Month')\n",
    "plt.ylabel('MaxAbs Scaled Net UCP')\n",
    "\n",
    "# Plot for MaxAbs_Quantity\n",
    "plt.subplot(2, 1, 2)\n",
    "plt.plot(demo_data_monthly['Month Key'], demo_data_monthly['MaxAbs_Quantity'], marker='o', linestyle='-', color='r')\n",
    "plt.title('MaxAbs Scaled Quantity Over Time')\n",
    "plt.xlabel('Month')\n",
    "plt.ylabel('MaxAbs Scaled Quantity')\n",
    "\n",
    "plt.tight_layout()\n",
    "plt.show()"
   ]
  },
  {
   "cell_type": "code",
   "execution_count": null,
   "id": "7ead1cbd-3606-46ee-a98f-f6723347d8f9",
   "metadata": {},
   "outputs": [],
   "source": []
  },
  {
   "cell_type": "code",
   "execution_count": null,
   "id": "eac8f458-80f9-4f03-85b5-d448e16bd982",
   "metadata": {},
   "outputs": [],
   "source": []
  },
  {
   "cell_type": "code",
   "execution_count": null,
   "id": "e03ce1bf-1b0a-437b-9c1d-38daf50d10d0",
   "metadata": {},
   "outputs": [],
   "source": []
  },
  {
   "cell_type": "code",
   "execution_count": null,
   "id": "e111e179-4597-4ec8-ac56-af8af2588935",
   "metadata": {},
   "outputs": [],
   "source": []
  },
  {
   "cell_type": "code",
   "execution_count": null,
   "id": "34e250dc-ac73-46e8-91df-ae37ac1471e3",
   "metadata": {},
   "outputs": [],
   "source": []
  },
  {
   "cell_type": "code",
   "execution_count": null,
   "id": "91df03e5-b50e-41c7-9127-88cc9e343562",
   "metadata": {},
   "outputs": [],
   "source": []
  }
 ],
 "metadata": {
  "kernelspec": {
   "display_name": "Python 3 (ipykernel)",
   "language": "python",
   "name": "python3"
  },
  "language_info": {
   "codemirror_mode": {
    "name": "ipython",
    "version": 3
   },
   "file_extension": ".py",
   "mimetype": "text/x-python",
   "name": "python",
   "nbconvert_exporter": "python",
   "pygments_lexer": "ipython3",
   "version": "3.11.7"
  }
 },
 "nbformat": 4,
 "nbformat_minor": 5
}
