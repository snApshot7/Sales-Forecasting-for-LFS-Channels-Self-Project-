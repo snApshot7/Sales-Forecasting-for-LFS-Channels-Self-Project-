{
 "cells": [
  {
   "cell_type": "code",
   "execution_count": 1,
   "id": "c09ef11d-ba78-4f11-b6b8-66f7a9777a8f",
   "metadata": {},
   "outputs": [],
   "source": [
    "import pandas as pd\n",
    "import numpy as np\n",
    "import matplotlib.pyplot as plt\n",
    "import seaborn as sns\n",
    "import warnings\n",
    "warnings.filterwarnings('ignore')"
   ]
  },
  {
   "cell_type": "code",
   "execution_count": 2,
   "id": "00683979-7cf9-46b3-bc77-863f8dd177a9",
   "metadata": {},
   "outputs": [],
   "source": [
    "#Data loading\n",
    "df_23_24_sales = pd.read_excel('SECONDARY YTD 23-24 Fragrance - Till February.xlsx', sheet_name=\"BASE DATA\")\n",
    "df_22_23_sales = pd.read_excel('Sales Data - Pivot (FY 16-23).xlsx', sheet_name=\"FY 22-23\")"
   ]
  },
  {
   "cell_type": "code",
   "execution_count": 11,
   "id": "63c0d861-46d4-4a4d-8e40-37fbee937956",
   "metadata": {},
   "outputs": [],
   "source": [
    "#Targetting the data for the LFS Channel\n",
    "df_22_23_sales_lfs = df_22_23_sales[df_22_23_sales['Channel-1'] == 'LFS']\n",
    "df_23_24_sales_lfs = df_23_24_sales[df_23_24_sales['Channel-2'] == 'LFS']"
   ]
  },
  {
   "cell_type": "code",
   "execution_count": 12,
   "id": "5df3b97b-5475-4a4b-a263-1e6700fe7af5",
   "metadata": {},
   "outputs": [],
   "source": [
    "df_22_23_sales_lfs.rename(columns={'Channel-1': 'Channel_lfs'}, inplace=True)\n",
    "df_23_24_sales_lfs.rename(columns={'Channel-2': 'Channel_lfs'}, inplace=True)\n",
    "df_22_23_sales_lfs.rename(columns={'Variant Name': 'Varient_Name'}, inplace=True)\n",
    "df_23_24_sales_lfs.rename(columns={'Varient Name2': 'Varient_Name'}, inplace=True)"
   ]
  },
  {
   "cell_type": "code",
   "execution_count": 15,
   "id": "1dccf8d9-23ed-4297-9512-5d5a0e1fd644",
   "metadata": {},
   "outputs": [
    {
     "name": "stdout",
     "output_type": "stream",
     "text": [
      "['Year', 'Month', 'Month Key', 'QTR', 'Region', 'Invoice Date', 'Material', 'Quantity', 'Gender', 'Brand', 'Channel', 'Franchisee store', 'Bill to Party code', 'Bill to Party Name', 'MRP', 'Gross UCP', 'Net UCP', 'Bill to Party City', 'ShiptopartyStateCode', 'Billing grp', 'Channel_lfs', 'Varient_Name', 'Collection']\n"
     ]
    }
   ],
   "source": [
    "#Combination of both the data frames \n",
    "combined_df_lfs = pd.concat([df_22_23_sales_lfs, df_23_24_sales_lfs], ignore_index=True)\n",
    "combined_df_lfs.rename(columns={' Net UCP': 'Net UCP'}, inplace=True)\n",
    "column_names = combined_df_lfs.columns.tolist()\n",
    "print(column_names)"
   ]
  },
  {
   "cell_type": "code",
   "execution_count": 16,
   "id": "62c408ef-a252-45cf-b134-4506914d1336",
   "metadata": {},
   "outputs": [
    {
     "data": {
      "text/plain": [
       "Gender\n",
       "G    207062\n",
       "L    154384\n",
       "P     16987\n",
       "U       635\n",
       "Name: count, dtype: int64"
      ]
     },
     "execution_count": 16,
     "metadata": {},
     "output_type": "execute_result"
    }
   ],
   "source": [
    "combined_df_lfs['Gender'].value_counts()"
   ]
  },
  {
   "cell_type": "code",
   "execution_count": 17,
   "id": "c12a8902-8a2a-4e24-b2b2-217ae867c854",
   "metadata": {},
   "outputs": [
    {
     "data": {
      "text/plain": [
       "Brand\n",
       "TF    375396\n",
       "Tf      2520\n",
       "FP      1152\n",
       "Name: count, dtype: int64"
      ]
     },
     "execution_count": 17,
     "metadata": {},
     "output_type": "execute_result"
    }
   ],
   "source": [
    "combined_df_lfs['Brand'].value_counts()"
   ]
  },
  {
   "cell_type": "code",
   "execution_count": 18,
   "id": "a517719f-bcfe-404f-bf5d-c19d48161b59",
   "metadata": {},
   "outputs": [
    {
     "data": {
      "text/plain": [
       "Brand\n",
       "TF    377916\n",
       "FP      1152\n",
       "Name: count, dtype: int64"
      ]
     },
     "execution_count": 18,
     "metadata": {},
     "output_type": "execute_result"
    }
   ],
   "source": [
    "#Replace the data of the 'Tf' from the 'TF' respectively\n",
    "demo_brand_check = combined_df_lfs[combined_df_lfs['Brand'] == 'Tf']\n",
    "combined_df_lfs['Brand'] = combined_df_lfs['Brand'].replace('Tf', 'TF')\n",
    "combined_df_lfs['Brand'].value_counts()"
   ]
  },
  {
   "cell_type": "code",
   "execution_count": 20,
   "id": "3b24077b-24dc-4732-9f53-2d0dca27b32b",
   "metadata": {},
   "outputs": [
    {
     "data": {
      "text/html": [
       "<div>\n",
       "<style scoped>\n",
       "    .dataframe tbody tr th:only-of-type {\n",
       "        vertical-align: middle;\n",
       "    }\n",
       "\n",
       "    .dataframe tbody tr th {\n",
       "        vertical-align: top;\n",
       "    }\n",
       "\n",
       "    .dataframe thead th {\n",
       "        text-align: right;\n",
       "    }\n",
       "</style>\n",
       "<table border=\"1\" class=\"dataframe\">\n",
       "  <thead>\n",
       "    <tr style=\"text-align: right;\">\n",
       "      <th></th>\n",
       "      <th>Year</th>\n",
       "      <th>Month</th>\n",
       "      <th>Month Key</th>\n",
       "      <th>QTR</th>\n",
       "      <th>Region</th>\n",
       "      <th>Invoice Date</th>\n",
       "      <th>Material</th>\n",
       "      <th>Quantity</th>\n",
       "      <th>Gender</th>\n",
       "      <th>Brand</th>\n",
       "      <th>...</th>\n",
       "      <th>Bill to Party Name</th>\n",
       "      <th>MRP</th>\n",
       "      <th>Gross UCP</th>\n",
       "      <th>Net UCP</th>\n",
       "      <th>Bill to Party City</th>\n",
       "      <th>ShiptopartyStateCode</th>\n",
       "      <th>Billing grp</th>\n",
       "      <th>Channel_lfs</th>\n",
       "      <th>Varient_Name</th>\n",
       "      <th>Collection</th>\n",
       "    </tr>\n",
       "  </thead>\n",
       "  <tbody>\n",
       "    <tr>\n",
       "      <th>174691</th>\n",
       "      <td>2022-23</td>\n",
       "      <td>2023-02-01</td>\n",
       "      <td>Feb</td>\n",
       "      <td>Q4</td>\n",
       "      <td>South</td>\n",
       "      <td>2023-02-12 00:00:00</td>\n",
       "      <td>NFFW14PK1</td>\n",
       "      <td>1.0</td>\n",
       "      <td>L</td>\n",
       "      <td>TF</td>\n",
       "      <td>...</td>\n",
       "      <td>LS-Prestige Shantinketan-Bangalore</td>\n",
       "      <td>2795</td>\n",
       "      <td>2795.0</td>\n",
       "      <td>2515.5</td>\n",
       "      <td>Bangalore</td>\n",
       "      <td>KARNATAKA</td>\n",
       "      <td>LFS</td>\n",
       "      <td>LFS</td>\n",
       "      <td>4. Aqua W 90 ml</td>\n",
       "      <td>e. Aqua</td>\n",
       "    </tr>\n",
       "  </tbody>\n",
       "</table>\n",
       "<p>1 rows × 23 columns</p>\n",
       "</div>"
      ],
      "text/plain": [
       "           Year      Month Month Key QTR Region         Invoice Date  \\\n",
       "174691  2022-23 2023-02-01       Feb  Q4  South  2023-02-12 00:00:00   \n",
       "\n",
       "         Material  Quantity Gender Brand  ...  \\\n",
       "174691  NFFW14PK1       1.0      L    TF  ...   \n",
       "\n",
       "                        Bill to Party Name   MRP Gross UCP Net UCP  \\\n",
       "174691  LS-Prestige Shantinketan-Bangalore  2795    2795.0  2515.5   \n",
       "\n",
       "        Bill to Party City  ShiptopartyStateCode  Billing grp Channel_lfs  \\\n",
       "174691           Bangalore  KARNATAKA                     LFS         LFS   \n",
       "\n",
       "           Varient_Name Collection  \n",
       "174691  4. Aqua W 90 ml    e. Aqua  \n",
       "\n",
       "[1 rows x 23 columns]"
      ]
     },
     "execution_count": 20,
     "metadata": {},
     "output_type": "execute_result"
    }
   ],
   "source": [
    "combined_df_lfs.sample(1)"
   ]
  },
  {
   "cell_type": "code",
   "execution_count": 28,
   "id": "47be1d26-599e-44e8-b4af-e78376e595ee",
   "metadata": {},
   "outputs": [
    {
     "data": {
      "text/plain": [
       "Collection\n",
       "Gift Pack          62820\n",
       "Classic 100 ml     61611\n",
       "Premium Deo        58719\n",
       "Classic 20 ml      52374\n",
       "Aqua               29753\n",
       "Classic 50 ml      26505\n",
       "Escapade Deo       24448\n",
       "Escapade           19996\n",
       "Nox 100 ml         12883\n",
       "Tales 100ml         8704\n",
       "Noura W 100ml       7139\n",
       "Deo Bundle Pack     6384\n",
       "Nox 20 ml           2661\n",
       "Noura 20 ml         2586\n",
       "Classic Flanker     1270\n",
       "Fastrack            1190\n",
       "Skinn Mist            15\n",
       "Bohemian               6\n",
       "Fastrack-Bold          4\n",
       "Name: count, dtype: int64"
      ]
     },
     "execution_count": 28,
     "metadata": {},
     "output_type": "execute_result"
    }
   ],
   "source": [
    "mapping = {\n",
    "    'd. Gift Pack': 'Gift Pack',\n",
    "    'g. Premium Deo': 'Premium Deo',\n",
    "    'a. Classic 100 ml': 'Classic 100 ml',\n",
    "    'f. Classic 20 ml': 'Classic 20 ml',\n",
    "    'b. Classic 50 ml': 'Classic 50 ml',\n",
    "    'e. Aqua': 'Aqua',\n",
    "    'g. Escapade Deo': 'Escapade Deo',\n",
    "    'c. Escapade': 'Escapade',\n",
    "    'j1. Nox 100 ml': 'Nox 100 ml',\n",
    "    'I. Tales 100ml': 'Tales 100ml',\n",
    "    'j2. Noura W 100ml': 'Noura W 100ml',\n",
    "    'h. Fastrack': 'Fastrack',\n",
    "    'h. Fastrack-Bold': 'Fastrack-Bold',\n",
    "    'x. Bohemian': 'Bohemian',\n",
    "    ' Premium Deo':'Premium Deo',\n",
    "    ' Escapade Deo':'Escapade Deo',\n",
    "    ' Bohemian':'Bohemian',\n",
    "    ' Deo Bundle Pack':'Deo Bundle Pack'\n",
    "}\n",
    "combined_df_lfs['Collection'] = combined_df_lfs['Collection'].replace(mapping)\n",
    "combined_df_lfs['Collection'].value_counts()"
   ]
  },
  {
   "cell_type": "code",
   "execution_count": 29,
   "id": "74dbd96f-530a-4ed8-ad3d-9e4dad586573",
   "metadata": {},
   "outputs": [
    {
     "data": {
      "application/vnd.jupyter.widget-view+json": {
       "model_id": "3e1c7c9f2c3944799eae1ce8651fb03d",
       "version_major": 2,
       "version_minor": 0
      },
      "text/plain": [
       "Summarize dataset:   0%|          | 0/5 [00:00<?, ?it/s]"
      ]
     },
     "metadata": {},
     "output_type": "display_data"
    },
    {
     "data": {
      "application/vnd.jupyter.widget-view+json": {
       "model_id": "8a495f398c344b7a9e3e2bf33b01d48f",
       "version_major": 2,
       "version_minor": 0
      },
      "text/plain": [
       "Generate report structure:   0%|          | 0/1 [00:00<?, ?it/s]"
      ]
     },
     "metadata": {},
     "output_type": "display_data"
    },
    {
     "data": {
      "application/vnd.jupyter.widget-view+json": {
       "model_id": "7eabd17159c14534829d742f61ee6787",
       "version_major": 2,
       "version_minor": 0
      },
      "text/plain": [
       "Render HTML:   0%|          | 0/1 [00:00<?, ?it/s]"
      ]
     },
     "metadata": {},
     "output_type": "display_data"
    },
    {
     "data": {
      "application/vnd.jupyter.widget-view+json": {
       "model_id": "2a59a943c87749cba989efe03e4f87e3",
       "version_major": 2,
       "version_minor": 0
      },
      "text/plain": [
       "Export report to file:   0%|          | 0/1 [00:00<?, ?it/s]"
      ]
     },
     "metadata": {},
     "output_type": "display_data"
    }
   ],
   "source": [
    "from ydata_profiling import ProfileReport\n",
    "prof = ProfileReport(combined_df_lfs)\n",
    "prof.to_file(output_file='ARIMA.html')"
   ]
  },
  {
   "cell_type": "code",
   "execution_count": 30,
   "id": "1a3fa5eb-f4f2-4304-b713-1d56fbca30bc",
   "metadata": {},
   "outputs": [
    {
     "data": {
      "text/plain": [
       "Region\n",
       "West     105498\n",
       "North    100417\n",
       "South     90644\n",
       "East      68152\n",
       "Name: count, dtype: int64"
      ]
     },
     "execution_count": 30,
     "metadata": {},
     "output_type": "execute_result"
    }
   ],
   "source": [
    "demo_brand_check = combined_df_lfs[combined_df_lfs['Region'] == 'NORTH']\n",
    "combined_df_lfs['Region'] = combined_df_lfs['Region'].replace('NORTH', 'North')\n",
    "combined_df_lfs['Region'].value_counts()"
   ]
  },
  {
   "cell_type": "code",
   "execution_count": null,
   "id": "0682c246-03a0-4046-9ec5-6a6ae0791fcc",
   "metadata": {},
   "outputs": [],
   "source": []
  },
  {
   "cell_type": "code",
   "execution_count": null,
   "id": "7a187a40-f5a9-4923-b3b8-06f7f90f728b",
   "metadata": {},
   "outputs": [],
   "source": []
  },
  {
   "cell_type": "code",
   "execution_count": null,
   "id": "25afbe95-3f18-4a76-9c74-5a422c4958af",
   "metadata": {},
   "outputs": [],
   "source": []
  },
  {
   "cell_type": "code",
   "execution_count": null,
   "id": "e5f9aa97-1263-4537-8e24-b17325572208",
   "metadata": {},
   "outputs": [],
   "source": []
  },
  {
   "cell_type": "code",
   "execution_count": null,
   "id": "fec30bea-bd05-41db-9c84-6aba9b296df8",
   "metadata": {},
   "outputs": [],
   "source": []
  },
  {
   "cell_type": "code",
   "execution_count": null,
   "id": "3498671d-2e67-4edf-b7bc-5f79d8ddd527",
   "metadata": {},
   "outputs": [],
   "source": []
  },
  {
   "cell_type": "code",
   "execution_count": null,
   "id": "3d8d8a8a-1619-4833-819e-e453280efd0f",
   "metadata": {},
   "outputs": [],
   "source": []
  },
  {
   "cell_type": "code",
   "execution_count": null,
   "id": "84e79e4f-cfd3-4f68-b392-6d591b48158d",
   "metadata": {},
   "outputs": [],
   "source": []
  },
  {
   "cell_type": "code",
   "execution_count": null,
   "id": "0f8ac202-5a4e-4b4c-b4fa-e45f69fa5ed2",
   "metadata": {},
   "outputs": [],
   "source": []
  },
  {
   "cell_type": "code",
   "execution_count": null,
   "id": "51899f83-9d52-43c7-8aae-6328fbd83495",
   "metadata": {},
   "outputs": [],
   "source": []
  },
  {
   "cell_type": "code",
   "execution_count": null,
   "id": "4fbddb05-18c3-47cf-baf3-740deca4cd39",
   "metadata": {},
   "outputs": [],
   "source": []
  },
  {
   "cell_type": "code",
   "execution_count": null,
   "id": "7ead1cbd-3606-46ee-a98f-f6723347d8f9",
   "metadata": {},
   "outputs": [],
   "source": []
  },
  {
   "cell_type": "code",
   "execution_count": null,
   "id": "eac8f458-80f9-4f03-85b5-d448e16bd982",
   "metadata": {},
   "outputs": [],
   "source": []
  },
  {
   "cell_type": "code",
   "execution_count": null,
   "id": "e03ce1bf-1b0a-437b-9c1d-38daf50d10d0",
   "metadata": {},
   "outputs": [],
   "source": []
  },
  {
   "cell_type": "code",
   "execution_count": null,
   "id": "e111e179-4597-4ec8-ac56-af8af2588935",
   "metadata": {},
   "outputs": [],
   "source": []
  },
  {
   "cell_type": "code",
   "execution_count": null,
   "id": "34e250dc-ac73-46e8-91df-ae37ac1471e3",
   "metadata": {},
   "outputs": [],
   "source": []
  },
  {
   "cell_type": "code",
   "execution_count": null,
   "id": "91df03e5-b50e-41c7-9127-88cc9e343562",
   "metadata": {},
   "outputs": [],
   "source": []
  }
 ],
 "metadata": {
  "kernelspec": {
   "display_name": "Python 3 (ipykernel)",
   "language": "python",
   "name": "python3"
  },
  "language_info": {
   "codemirror_mode": {
    "name": "ipython",
    "version": 3
   },
   "file_extension": ".py",
   "mimetype": "text/x-python",
   "name": "python",
   "nbconvert_exporter": "python",
   "pygments_lexer": "ipython3",
   "version": "3.11.7"
  }
 },
 "nbformat": 4,
 "nbformat_minor": 5
}
